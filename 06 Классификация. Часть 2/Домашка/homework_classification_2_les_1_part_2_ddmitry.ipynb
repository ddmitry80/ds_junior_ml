{
 "cells": [
  {
   "cell_type": "markdown",
   "metadata": {
    "colab_type": "text",
    "id": "XPMD7legJPxN"
   },
   "source": [
    "# Урок 1. Метрики качества классификации ч.2\n",
    "\n",
    "Продолжим работу с метриками классификации. В предыдущем задании мы разобрали матрицу ошибок и две основные метрики, которые используются при бинарной классификации.\n",
    "\n",
    "Сейчас рассмотрим F-меру - совокупную метрику по precision и recall - и более сложную AUC-ROC."
   ]
  },
  {
   "cell_type": "markdown",
   "metadata": {
    "colab_type": "text",
    "id": "g7NLDfZXJPxR"
   },
   "source": [
    "### 2.1\n",
    "Из задания к предыдущему уроку выберите классификатор, который давал наименьшее значение recall, вычислите для него precision, применив precision_score, и самостоятельно посчитайте F1-меру (расчеты должны присутствовать). Затем проверьте ответ, используя встроенную функцию.\n",
    "\n",
    "Сравните полученную f1-меру со значением среднего арифметического полноты и точности."
   ]
  },
  {
   "cell_type": "code",
   "execution_count": 1,
   "metadata": {
    "colab": {},
    "colab_type": "code",
    "id": "Qz1QQaKTJPxS"
   },
   "outputs": [],
   "source": [
    "from sklearn.metrics import precision_score, f1_score"
   ]
  },
  {
   "cell_type": "code",
   "execution_count": 22,
   "metadata": {
    "colab": {},
    "colab_type": "code",
    "id": "PJL2iQqLJPxg"
   },
   "outputs": [
    {
     "name": "stdout",
     "output_type": "stream",
     "text": [
      "Медианы возрастов от пола:\n",
      "мужчины - 29.0, женщины - 27.0\n",
      "Возраст людей с ID от 6 до 20 включительно: \n",
      "[29. 54.  2. 27. 14.  4. 58. 20. 39. 14. 55.  2. 29. 31. 27.]\n",
      "Количество пропущенных значений: 0\n"
     ]
    },
    {
     "data": {
      "text/html": [
       "<div>\n",
       "<style scoped>\n",
       "    .dataframe tbody tr th:only-of-type {\n",
       "        vertical-align: middle;\n",
       "    }\n",
       "\n",
       "    .dataframe tbody tr th {\n",
       "        vertical-align: top;\n",
       "    }\n",
       "\n",
       "    .dataframe thead th {\n",
       "        text-align: right;\n",
       "    }\n",
       "</style>\n",
       "<table border=\"1\" class=\"dataframe\">\n",
       "  <thead>\n",
       "    <tr style=\"text-align: right;\">\n",
       "      <th></th>\n",
       "      <th>Survived</th>\n",
       "      <th>Pclass</th>\n",
       "      <th>Sex</th>\n",
       "      <th>Age</th>\n",
       "      <th>SibSp</th>\n",
       "      <th>Parch</th>\n",
       "      <th>Fare</th>\n",
       "      <th>Embarked</th>\n",
       "    </tr>\n",
       "    <tr>\n",
       "      <th>PassengerId</th>\n",
       "      <th></th>\n",
       "      <th></th>\n",
       "      <th></th>\n",
       "      <th></th>\n",
       "      <th></th>\n",
       "      <th></th>\n",
       "      <th></th>\n",
       "      <th></th>\n",
       "    </tr>\n",
       "  </thead>\n",
       "  <tbody>\n",
       "    <tr>\n",
       "      <th>1</th>\n",
       "      <td>0</td>\n",
       "      <td>3</td>\n",
       "      <td>0</td>\n",
       "      <td>22.0</td>\n",
       "      <td>1</td>\n",
       "      <td>0</td>\n",
       "      <td>7.2500</td>\n",
       "      <td>1</td>\n",
       "    </tr>\n",
       "    <tr>\n",
       "      <th>2</th>\n",
       "      <td>1</td>\n",
       "      <td>1</td>\n",
       "      <td>1</td>\n",
       "      <td>38.0</td>\n",
       "      <td>1</td>\n",
       "      <td>0</td>\n",
       "      <td>71.2833</td>\n",
       "      <td>2</td>\n",
       "    </tr>\n",
       "    <tr>\n",
       "      <th>3</th>\n",
       "      <td>1</td>\n",
       "      <td>3</td>\n",
       "      <td>1</td>\n",
       "      <td>26.0</td>\n",
       "      <td>0</td>\n",
       "      <td>0</td>\n",
       "      <td>7.9250</td>\n",
       "      <td>1</td>\n",
       "    </tr>\n",
       "    <tr>\n",
       "      <th>4</th>\n",
       "      <td>1</td>\n",
       "      <td>1</td>\n",
       "      <td>1</td>\n",
       "      <td>35.0</td>\n",
       "      <td>1</td>\n",
       "      <td>0</td>\n",
       "      <td>53.1000</td>\n",
       "      <td>1</td>\n",
       "    </tr>\n",
       "    <tr>\n",
       "      <th>5</th>\n",
       "      <td>0</td>\n",
       "      <td>3</td>\n",
       "      <td>0</td>\n",
       "      <td>35.0</td>\n",
       "      <td>0</td>\n",
       "      <td>0</td>\n",
       "      <td>8.0500</td>\n",
       "      <td>1</td>\n",
       "    </tr>\n",
       "  </tbody>\n",
       "</table>\n",
       "</div>"
      ],
      "text/plain": [
       "             Survived  Pclass  Sex   Age  SibSp  Parch     Fare  Embarked\n",
       "PassengerId                                                              \n",
       "1                   0       3    0  22.0      1      0   7.2500         1\n",
       "2                   1       1    1  38.0      1      0  71.2833         2\n",
       "3                   1       3    1  26.0      0      0   7.9250         1\n",
       "4                   1       1    1  35.0      1      0  53.1000         1\n",
       "5                   0       3    0  35.0      0      0   8.0500         1"
      ]
     },
     "execution_count": 22,
     "metadata": {},
     "output_type": "execute_result"
    }
   ],
   "source": [
    "### YOUR CODE HERE ###\n",
    "import pandas as pd\n",
    "\n",
    "titanic = pd.read_csv('titanic/train.csv')\n",
    "\n",
    "# Заполняем пропущенные значения возраста\n",
    "sex_median = titanic.groupby('Sex')['Age'].median()\n",
    "print(f\"Медианы возрастов от пола:\\nмужчины - {sex_median['male']}, женщины - {sex_median['female']}\")\n",
    "titanic.loc[(titanic.Sex=='male') & (titanic['Age'].isna()), 'Age'] = sex_median['male']\n",
    "titanic.loc[(titanic.Sex=='female') & (titanic['Age'].isna()), 'Age'] = sex_median['female']\n",
    "\n",
    "# Заполняем пропущенные значения номеров кают и портов посадки\n",
    "titanic.loc[titanic['Cabin'].isna(), 'Cabin'] = 'U'\n",
    "titanic.loc[titanic['Embarked'].isna(), 'Embarked'] = 'U'\n",
    "\n",
    "titanic_age_6_20 = titanic[(titanic['PassengerId'] >= 6) & (titanic['PassengerId'] <= 20)]['Age']\n",
    "print(f'Возраст людей с ID от 6 до 20 включительно: \\n{titanic_age_6_20.values}')\n",
    "print('Количество пропущенных значений:', titanic_age_6_20.isnull().sum() )\n",
    "\n",
    "# Заменяю категориальные строковые данные числовыми\n",
    "titanic['Sex'].replace({'male':0, 'female':1}, inplace=True)\n",
    "titanic['Embarked'].replace({'U':0, 'S':1, 'C':2, 'Q':3}, inplace=True)\n",
    "\n",
    "# Делаю поле индексным\n",
    "titanic.set_index('PassengerId', inplace=True)\n",
    "\n",
    "# Удаляю не нужные для дальнейшего анализа столбцы\n",
    "titanic.drop(columns=['Cabin', 'Name', 'Ticket'], inplace=True)\n",
    "\n",
    "titanic.head()"
   ]
  },
  {
   "cell_type": "code",
   "execution_count": 62,
   "metadata": {
    "colab": {},
    "colab_type": "code",
    "id": "PJL2iQqLJPxg"
   },
   "outputs": [],
   "source": [
    "# разбиваю данные на обучающую и тестовую выборку\n",
    "from sklearn.model_selection import train_test_split\n",
    "\n",
    "x_train, x_test, y_train, y_test = train_test_split(\n",
    "    titanic[['Pclass', 'Sex', 'Age', 'SibSp', 'Parch', 'Fare', 'Embarked']], titanic['Survived'], \n",
    "    random_state=17)"
   ]
  },
  {
   "cell_type": "code",
   "execution_count": 63,
   "metadata": {
    "colab": {},
    "colab_type": "code",
    "id": "PJL2iQqLJPxg"
   },
   "outputs": [
    {
     "name": "stdout",
     "output_type": "stream",
     "text": [
      "Используется метод \"K ближайших соседей\", получена матрица ошибок:\n",
      " [[110  21]\n",
      " [ 47  45]]\n",
      "Полнота: 0.4891304347826087, точность: 0.6818181818181818\n"
     ]
    }
   ],
   "source": [
    "from sklearn.metrics import confusion_matrix, recall_score, precision_score\n",
    "from sklearn.neighbors import KNeighborsClassifier\n",
    "\n",
    "kn = KNeighborsClassifier(n_neighbors=5).fit(x_train, y_train)\n",
    "kn_pred = kn.predict(x_test)\n",
    "kn_cm = confusion_matrix(y_test, kn_pred)\n",
    "kn_rs = recall_score(y_test, kn_pred)\n",
    "kn_ps = precision_score(y_test, kn_pred)\n",
    "print('Используется метод \"K ближайших соседей\", получена матрица ошибок:\\n', kn_cm)\n",
    "print(f'Полнота: {kn_rs}, точность: {kn_ps}')"
   ]
  },
  {
   "cell_type": "code",
   "execution_count": 64,
   "metadata": {
    "colab": {},
    "colab_type": "code",
    "id": "PJL2iQqLJPxg"
   },
   "outputs": [
    {
     "name": "stdout",
     "output_type": "stream",
     "text": [
      "Расчетная F1 мера: 0.5696202531645569\n"
     ]
    }
   ],
   "source": [
    "# Рассчитаем F1 score самостоятельно\n",
    "f1_mera_manual = 2*kn_rs*kn_ps/(kn_rs+kn_ps)\n",
    "print('Расчетная F1 мера:', f1_mera_manual)"
   ]
  },
  {
   "cell_type": "code",
   "execution_count": 65,
   "metadata": {
    "colab": {},
    "colab_type": "code",
    "id": "PJL2iQqLJPxg"
   },
   "outputs": [
    {
     "data": {
      "text/plain": [
       "0.5696202531645569"
      ]
     },
     "execution_count": 65,
     "metadata": {},
     "output_type": "execute_result"
    }
   ],
   "source": [
    "# теперь возьмем библиотечную функцию\n",
    "f1_score(y_test, kn_pred)"
   ]
  },
  {
   "cell_type": "markdown",
   "metadata": {
    "colab": {},
    "colab_type": "code",
    "id": "PJL2iQqLJPxg"
   },
   "source": [
    "Как мы видим, рассчитанная нами самостоятельно метрика, и полученная с помощью библиотечной функции, совпадают"
   ]
  },
  {
   "cell_type": "code",
   "execution_count": null,
   "metadata": {
    "colab": {},
    "colab_type": "code",
    "id": "PJL2iQqLJPxg"
   },
   "outputs": [],
   "source": []
  },
  {
   "cell_type": "markdown",
   "metadata": {
    "colab_type": "text",
    "id": "K07AORA1JPxp"
   },
   "source": [
    "В библиотеке sklearn есть удобная функция classification_report, возвращающая precision, recall, F-меру и количество экземпляров каждого класса в удобном для чтения формате. Также существует функция precision_recall_fscore_support, возвращающая те же самые метрики, но в форме массива.\n",
    "\n",
    "### 2.2\n",
    "Для каждого классификатора из предыдущего урока рассчитайте и выведите следующие импортированные метрики."
   ]
  },
  {
   "cell_type": "code",
   "execution_count": 42,
   "metadata": {
    "colab": {},
    "colab_type": "code",
    "id": "nBapO7VdJPxt"
   },
   "outputs": [],
   "source": [
    "from sklearn.metrics import precision_recall_fscore_support, classification_report"
   ]
  },
  {
   "cell_type": "code",
   "execution_count": 43,
   "metadata": {
    "colab": {},
    "colab_type": "code",
    "id": "9MLMwO1EJPx6"
   },
   "outputs": [],
   "source": [
    "### YOUR CODE HERE ###\n",
    "from sklearn.neighbors import KNeighborsClassifier\n",
    "from sklearn.naive_bayes import GaussianNB\n",
    "from sklearn.tree import DecisionTreeClassifier\n",
    "from sklearn.linear_model import LogisticRegression"
   ]
  },
  {
   "cell_type": "code",
   "execution_count": 49,
   "metadata": {
    "colab": {},
    "colab_type": "code",
    "id": "9MLMwO1EJPx6"
   },
   "outputs": [
    {
     "name": "stdout",
     "output_type": "stream",
     "text": [
      "Метод \"К ближайших соседей\"\n",
      "              precision    recall  f1-score   support\n",
      "\n",
      "           0       0.70      0.84      0.76       131\n",
      "           1       0.68      0.49      0.57        92\n",
      "\n",
      "    accuracy                           0.70       223\n",
      "   macro avg       0.69      0.66      0.67       223\n",
      "weighted avg       0.69      0.70      0.68       223\n",
      "\n",
      "(array([0.70063694, 0.68181818]), array([0.83969466, 0.48913043]), array([0.76388889, 0.56962025]), array([131,  92], dtype=int64))\n",
      "\n",
      "\n",
      "Метод \"Наивный байес\"\n",
      "              precision    recall  f1-score   support\n",
      "\n",
      "           0       0.80      0.85      0.83       131\n",
      "           1       0.76      0.71      0.73        92\n",
      "\n",
      "    accuracy                           0.79       223\n",
      "   macro avg       0.78      0.78      0.78       223\n",
      "weighted avg       0.79      0.79      0.79       223\n",
      "\n",
      "(array([0.80434783, 0.76470588]), array([0.84732824, 0.70652174]), array([0.82527881, 0.73446328]), array([131,  92], dtype=int64))\n",
      "\n",
      "\n",
      "Метод \"Деревья принятия решений\"\n",
      "              precision    recall  f1-score   support\n",
      "\n",
      "           0       0.81      0.85      0.83       131\n",
      "           1       0.78      0.72      0.75        92\n",
      "\n",
      "    accuracy                           0.80       223\n",
      "   macro avg       0.79      0.79      0.79       223\n",
      "weighted avg       0.80      0.80      0.80       223\n",
      "\n",
      "(array([0.8115942 , 0.77647059]), array([0.85496183, 0.7173913 ]), array([0.83271375, 0.74576271]), array([131,  92], dtype=int64))\n",
      "\n",
      "\n",
      "Метод \"Логистическая регрессия\"\n",
      "              precision    recall  f1-score   support\n",
      "\n",
      "           0       0.80      0.87      0.84       131\n",
      "           1       0.79      0.70      0.74        92\n",
      "\n",
      "    accuracy                           0.80       223\n",
      "   macro avg       0.80      0.78      0.79       223\n",
      "weighted avg       0.80      0.80      0.80       223\n",
      "\n",
      "(array([0.8028169 , 0.79012346]), array([0.87022901, 0.69565217]), array([0.83516484, 0.73988439]), array([131,  92], dtype=int64))\n"
     ]
    }
   ],
   "source": [
    "# К ближайших соседей\n",
    "kn = KNeighborsClassifier(n_neighbors=5).fit(x_train, y_train)\n",
    "kn_pred = kn.predict(x_test)\n",
    "print('Метод \"К ближайших соседей\"')\n",
    "print(classification_report(y_test, kn_pred))\n",
    "print(precision_recall_fscore_support(y_test, kn_pred))\n",
    "\n",
    "# Наивный байес\n",
    "gnb = GaussianNB().fit(x_train, y_train)\n",
    "gnb_pred = gnb.predict(x_test)\n",
    "print('\\n\\nМетод \"Наивный байес\"')\n",
    "print(classification_report(y_test, gnb_pred))\n",
    "print(precision_recall_fscore_support(y_test, gnb_pred))\n",
    "\n",
    "# Деревья принятия решений\n",
    "dtc = DecisionTreeClassifier(random_state=17).fit(x_train, y_train)\n",
    "dtc_pred = dtc.predict(x_test)\n",
    "print('\\n\\nМетод \"Деревья принятия решений\"')\n",
    "print(classification_report(y_test, dtc_pred))\n",
    "print(precision_recall_fscore_support(y_test, dtc_pred))\n",
    "\n",
    "# Логистическая регрессия\n",
    "lr = LogisticRegression(random_state=17).fit(x_train, y_train)\n",
    "lr_pred = lr.predict(x_test)\n",
    "print('\\n\\nМетод \"Логистическая регрессия\"')\n",
    "print(classification_report(y_test, lr_pred))\n",
    "print(precision_recall_fscore_support(y_test, lr_pred))"
   ]
  },
  {
   "cell_type": "markdown",
   "metadata": {
    "colab_type": "text",
    "id": "Je-QKB9aJPyI"
   },
   "source": [
    "Вернемся к классификатору LogisticRegression, который мы обучали в предыдущем задании. Там мы не затрагивали настройку гиперпараметров: сделать это можно с помощью LogisticRegressionCV - перебора параметров по сетке с последующей кросс-валидацией (по сути это аналог GridSearchCV, но со своими параметрами внутри, применимыми только к логистической регрессии). Этот класс создан специально для логистической регрессии, т.к. для нее известны эффективные алгоритмы перебора параметров.\n",
    "\n",
    "У LogisticRegression есть гиперпараметр C - обратный коэффициент регуляризации. Не вдаваясь в подробное описание по формуле, можно сказать, что C соответствует \"сложности\" модели: чем больше C, тем более сложные зависимости может восстанавливать модель; если параметр C слишком мал (слишком сильная регуляризация), то модель окажется недообученной, а если наоборот регуляризация слишком слабая (т.е. C принимает большие значения), то скорее всего модель окажется переобученной, потому как модель будет слишком \"бояться\" ошибиться на обучающей выборке."
   ]
  },
  {
   "cell_type": "markdown",
   "metadata": {
    "colab_type": "text",
    "id": "5cUUo5qqJPyM"
   },
   "source": [
    "### 2.3 \n",
    "\n",
    "1. Используя StratifiedKFold, разбейте данные для кросс-валидации по 5-ти блокам (не забывайте во всех методах использовать random_state=17).\n",
    "2. С помощью numpy.logspace разбейте интервал (-1, 2) на 500 значений.\n",
    "3. С помощью LogisticRegressionCV подберите оптимальный параметр C: установите гиперпараметр Cs равным объекту из п.2 (разбиение интервала (-1, 2) отвечает за подбор обратного коэффициента регуляризации C); cv равным объекту из п.1 (разбиение для кросс-валидации); scoring равным \"roc_auc\" (отвечает за оптимизацию гиперпараметров на кросс-валидации: метрика, установленная в scoring, контролирует, как оценивать модель при каждом из наборе параметров, т.е. показывает, какая метрика должна быть наилучшей).\n",
    "4. Обучите полученную модель на тренировочных данных."
   ]
  },
  {
   "cell_type": "code",
   "execution_count": 50,
   "metadata": {
    "colab": {},
    "colab_type": "code",
    "id": "hAA-p9KuJPyR"
   },
   "outputs": [],
   "source": [
    "from sklearn.model_selection import StratifiedKFold\n",
    "from sklearn.linear_model import LogisticRegressionCV\n",
    "import numpy as np"
   ]
  },
  {
   "cell_type": "code",
   "execution_count": 56,
   "metadata": {
    "colab": {},
    "colab_type": "code",
    "id": "CeFmfMp1JPyi"
   },
   "outputs": [
    {
     "name": "stdout",
     "output_type": "stream",
     "text": [
      "StratifiedKFold(n_splits=5, random_state=17, shuffle=False)\n"
     ]
    },
    {
     "name": "stderr",
     "output_type": "stream",
     "text": [
      "C:\\Users\\ddmit\\anaconda3\\lib\\site-packages\\sklearn\\model_selection\\_split.py:296: FutureWarning: Setting a random_state has no effect since shuffle is False. This will raise an error in 0.24. You should leave random_state to its default (None), or set shuffle=True.\n",
      "  FutureWarning\n"
     ]
    }
   ],
   "source": [
    "### YOUR CODE HERE ###\n",
    "\n",
    "skf = StratifiedKFold(n_splits=5, random_state=17)\n",
    "skf.get_n_splits(x_train, y_train)\n",
    "print(skf)\n",
    "lgs = np.logspace(-1, 2, 500)"
   ]
  },
  {
   "cell_type": "code",
   "execution_count": 59,
   "metadata": {
    "colab": {},
    "colab_type": "code",
    "id": "CeFmfMp1JPyi"
   },
   "outputs": [
    {
     "name": "stderr",
     "output_type": "stream",
     "text": [
      "C:\\Users\\ddmit\\anaconda3\\lib\\site-packages\\sklearn\\linear_model\\_logistic.py:940: ConvergenceWarning: lbfgs failed to converge (status=1):\n",
      "STOP: TOTAL NO. of ITERATIONS REACHED LIMIT.\n",
      "\n",
      "Increase the number of iterations (max_iter) or scale the data as shown in:\n",
      "    https://scikit-learn.org/stable/modules/preprocessing.html\n",
      "Please also refer to the documentation for alternative solver options:\n",
      "    https://scikit-learn.org/stable/modules/linear_model.html#logistic-regression\n",
      "  extra_warning_msg=_LOGISTIC_SOLVER_CONVERGENCE_MSG)\n",
      "C:\\Users\\ddmit\\anaconda3\\lib\\site-packages\\sklearn\\linear_model\\_logistic.py:940: ConvergenceWarning: lbfgs failed to converge (status=1):\n",
      "STOP: TOTAL NO. of ITERATIONS REACHED LIMIT.\n",
      "\n",
      "Increase the number of iterations (max_iter) or scale the data as shown in:\n",
      "    https://scikit-learn.org/stable/modules/preprocessing.html\n",
      "Please also refer to the documentation for alternative solver options:\n",
      "    https://scikit-learn.org/stable/modules/linear_model.html#logistic-regression\n",
      "  extra_warning_msg=_LOGISTIC_SOLVER_CONVERGENCE_MSG)\n"
     ]
    },
    {
     "data": {
      "text/plain": [
       "LogisticRegressionCV(Cs=array([  0.1       ,   0.10139395,   0.10280732,   0.1042404 ,\n",
       "         0.10569346,   0.10716676,   0.10866061,   0.11017528,\n",
       "         0.11171107,   0.11326826,   0.11484715,   0.11644806,\n",
       "         0.11807128,   0.11971713,   0.12138593,   0.12307798,\n",
       "         0.12479362,   0.12653318,   0.12829698,   0.13008537,\n",
       "         0.13189869,   0.13373729,   0.13560151,   0.13749172,\n",
       "         0.13940828,   0.14135156,   0.14332192,   0.14531975,\n",
       "         0.14734543,   0.149399...\n",
       "        90.76446073,  92.02966809,  93.31251175,  94.61323756,\n",
       "        95.93209478,  97.26933615,  98.62521795, 100.        ]),\n",
       "                     class_weight=None,\n",
       "                     cv=StratifiedKFold(n_splits=5, random_state=17, shuffle=False),\n",
       "                     dual=False, fit_intercept=True, intercept_scaling=1.0,\n",
       "                     l1_ratios=None, max_iter=100, multi_class='auto',\n",
       "                     n_jobs=None, penalty='l2', random_state=None, refit=True,\n",
       "                     scoring='roc_auc', solver='lbfgs', tol=0.0001, verbose=0)"
      ]
     },
     "execution_count": 59,
     "metadata": {},
     "output_type": "execute_result"
    }
   ],
   "source": [
    "lrcv = LogisticRegressionCV(Cs=lgs, cv=skf, scoring='roc_auc')\n",
    "lrcv.fit(x_train, y_train)"
   ]
  },
  {
   "cell_type": "code",
   "execution_count": 60,
   "metadata": {
    "colab": {},
    "colab_type": "code",
    "id": "CeFmfMp1JPyi"
   },
   "outputs": [
    {
     "data": {
      "text/plain": [
       "{1: array([[0.81107143, 0.81083333, 0.81107143, ..., 0.80916667, 0.80916667,\n",
       "         0.80916667],\n",
       "        [0.87369048, 0.87416667, 0.87416667, ..., 0.8772619 , 0.8772619 ,\n",
       "         0.8772619 ],\n",
       "        [0.82904762, 0.82904762, 0.82904762, ..., 0.8402381 , 0.8402381 ,\n",
       "         0.8402381 ],\n",
       "        [0.88385542, 0.88409639, 0.88409639, ..., 0.88843373, 0.88843373,\n",
       "         0.88843373],\n",
       "        [0.83771084, 0.83746988, 0.83746988, ..., 0.83120482, 0.83120482,\n",
       "         0.83120482]])}"
      ]
     },
     "execution_count": 60,
     "metadata": {},
     "output_type": "execute_result"
    }
   ],
   "source": [
    "lrcv.scores_"
   ]
  },
  {
   "cell_type": "code",
   "execution_count": 61,
   "metadata": {
    "colab": {},
    "colab_type": "code",
    "id": "CeFmfMp1JPyi"
   },
   "outputs": [
    {
     "data": {
      "text/plain": [
       "array([0.63037532])"
      ]
     },
     "execution_count": 61,
     "metadata": {},
     "output_type": "execute_result"
    }
   ],
   "source": [
    "lrcv.C_"
   ]
  },
  {
   "cell_type": "code",
   "execution_count": null,
   "metadata": {
    "colab": {},
    "colab_type": "code",
    "id": "CeFmfMp1JPyi"
   },
   "outputs": [],
   "source": [
    "# Размер шага графика"
   ]
  },
  {
   "cell_type": "code",
   "execution_count": null,
   "metadata": {
    "colab": {},
    "colab_type": "code",
    "id": "CeFmfMp1JPyi"
   },
   "outputs": [],
   "source": []
  },
  {
   "cell_type": "markdown",
   "metadata": {
    "colab_type": "text",
    "id": "ApH4zb9LJPy0"
   },
   "source": [
    "### 2.4\n",
    "Используя метод plot из matplotlib.pyplot, выведите график зависимости auc_roc от значения C."
   ]
  },
  {
   "cell_type": "markdown",
   "metadata": {
    "colab_type": "text",
    "id": "CmPt12GaJPy3"
   },
   "source": [
    "*Примечание: значения по оси x - разбиение с помощью np.logspace из п.2 предыдущего задания, а значения по оси y - среднее значение roc_auc по каждой валидации, т.е. среднее значение из полученных на каждом из 5-ти разбиений при данном параметре C (используйте метод scores_ объекта, который инкапсулирует LogisticRegressionCV).*"
   ]
  },
  {
   "cell_type": "code",
   "execution_count": 74,
   "metadata": {
    "colab": {},
    "colab_type": "code",
    "id": "X-wu2XWgJPy6"
   },
   "outputs": [],
   "source": [
    "import matplotlib.pyplot as plt"
   ]
  },
  {
   "cell_type": "code",
   "execution_count": 81,
   "metadata": {
    "colab": {},
    "colab_type": "code",
    "id": "AZ-EIaWIJPzJ"
   },
   "outputs": [
    {
     "data": {
      "image/png": "[encoded data removed]",
      "text/plain": [
       "<Figure size 432x288 with 1 Axes>"
      ]
     },
     "metadata": {
      "needs_background": "light"
     },
     "output_type": "display_data"
    }
   ],
   "source": [
    "### YOUR CODE HERE ###\n",
    "def get_mean_score(n):\n",
    "    return lrcv.scores_[1][:, n].mean()\n",
    "\n",
    "plt.plot(lgs, [get_mean_score(y) for y in range(0, len(lgs))]);"
   ]
  },
  {
   "cell_type": "code",
   "execution_count": null,
   "metadata": {
    "colab": {},
    "colab_type": "code",
    "id": "AZ-EIaWIJPzJ"
   },
   "outputs": [],
   "source": []
  },
  {
   "cell_type": "markdown",
   "metadata": {
    "colab_type": "text",
    "id": "N1ZO3FStJPzY"
   },
   "source": [
    "### 2.5\n",
    "С помощью метода C_ того же объекта выведите лучшее значение C. Выведите более конкретную область графика (область ~15 точкам по x), включающую лучшее значение C.\n",
    "\n",
    "*Примечание: используйте plt.xlim.*"
   ]
  },
  {
   "cell_type": "code",
   "execution_count": 84,
   "metadata": {
    "colab": {},
    "colab_type": "code",
    "id": "SXk4X1pkJPzn"
   },
   "outputs": [
    {
     "name": "stdout",
     "output_type": "stream",
     "text": [
      "Лучшее значение: [0.63037532]\n",
      "Расстояние между точками: 0.006\n"
     ]
    }
   ],
   "source": [
    "### YOUR CODE HERE ###\n",
    "print('Лучшее значение:', lrcv.C_)\n",
    "delta=(2-(-1))/500\n",
    "print('Расстояние между точками:', delta)"
   ]
  },
  {
   "cell_type": "code",
   "execution_count": 85,
   "metadata": {
    "colab": {},
    "colab_type": "code",
    "id": "SXk4X1pkJPzn"
   },
   "outputs": [
    {
     "data": {
      "text/plain": [
       "(0.5883753153071278, 0.6723753153071279)"
      ]
     },
     "execution_count": 85,
     "metadata": {},
     "output_type": "execute_result"
    },
    {
     "data": {
      "image/png": "[encoded data removed]",
      "text/plain": [
       "<Figure size 432x288 with 1 Axes>"
      ]
     },
     "metadata": {
      "needs_background": "light"
     },
     "output_type": "display_data"
    }
   ],
   "source": [
    "plt.plot(lgs, [get_mean_score(y) for y in range(0, len(lgs))])\n",
    "plt.xlim(lrcv.C_[0]-delta*7, lrcv.C_[0]+delta*7)"
   ]
  },
  {
   "cell_type": "markdown",
   "metadata": {
    "colab_type": "text",
    "id": "yklBDi5mJPz4"
   },
   "source": [
    "### 2.6\n",
    "С помощью метода predict_proba получите вероятности принадлежности объектов тестовой выборки к классам. Постройте график roc_auc для тестовой выборки и выведите значение auc."
   ]
  },
  {
   "cell_type": "markdown",
   "metadata": {
    "colab_type": "text",
    "id": "EmBn701bJPz7"
   },
   "source": [
    "**Пример** построения графика."
   ]
  },
  {
   "cell_type": "code",
   "execution_count": 87,
   "metadata": {
    "colab": {},
    "colab_type": "code",
    "id": "Lo_dahpXJPz9"
   },
   "outputs": [],
   "source": [
    "from sklearn.metrics import roc_auc_score, roc_curve"
   ]
  },
  {
   "cell_type": "code",
   "execution_count": null,
   "metadata": {
    "colab": {},
    "colab_type": "code",
    "id": "QoLOJjrFJP0a",
    "outputId": "f566e7ed-1d00-4348-f544-13c227d44398"
   },
   "outputs": [
    {
     "data": {
      "text/plain": [
       "<matplotlib.legend.Legend at 0x7fc499cfaf60>"
      ]
     },
     "execution_count": 25,
     "metadata": {
      "tags": []
     },
     "output_type": "execute_result"
    },
    {
     "data": {
      "image/png": "[encoded data removed]",
      "text/plain": [
       "<Figure size 432x288 with 1 Axes>"
      ]
     },
     "metadata": {
      "tags": []
     },
     "output_type": "display_data"
    }
   ],
   "source": [
    "probas = logit_search.fit(x_train, y_train).predict_proba(x_train)\n",
    "fpr, tpr, _ = roc_curve(y_train, probas[:, 1])\n",
    "auc = roc_auc_score(y_train, probas[:, 1])\n",
    "plt.plot(fpr, tpr, label=\"auc=\" + str(auc))\n",
    "plt.legend(loc=4)"
   ]
  },
  {
   "cell_type": "code",
   "execution_count": 88,
   "metadata": {
    "colab": {},
    "colab_type": "code",
    "id": "PDkiAP0vJP0u"
   },
   "outputs": [
    {
     "data": {
      "text/plain": [
       "<matplotlib.legend.Legend at 0x1b573ba2648>"
      ]
     },
     "execution_count": 88,
     "metadata": {},
     "output_type": "execute_result"
    },
    {
     "data": {
      "image/png": "[encoded data removed]",
      "text/plain": [
       "<Figure size 432x288 with 1 Axes>"
      ]
     },
     "metadata": {
      "needs_background": "light"
     },
     "output_type": "display_data"
    }
   ],
   "source": [
    "### YOUR CODE HERE ###\n",
    "probas = lrcv.predict_proba(x_train)\n",
    "fpr, tpr, _ = roc_curve(y_train, probas[:, 1])\n",
    "auc = roc_auc_score(y_train, probas[:, 1])\n",
    "plt.plot(fpr, tpr, label=\"auc=\" + str(auc))\n",
    "plt.legend(loc=4)\n"
   ]
  },
  {
   "cell_type": "code",
   "execution_count": null,
   "metadata": {},
   "outputs": [],
   "source": []
  }
 ],
 "metadata": {
  "colab": {
   "name": "homework_classification-2_les-1_part-2.ipynb",
   "provenance": []
  },
  "kernelspec": {
   "display_name": "Python 3",
   "language": "python",
   "name": "python3"
  },
  "language_info": {
   "codemirror_mode": {
    "name": "ipython",
    "version": 3
   },
   "file_extension": ".py",
   "mimetype": "text/x-python",
   "name": "python",
   "nbconvert_exporter": "python",
   "pygments_lexer": "ipython3",
   "version": "3.7.6"
  }
 },
 "nbformat": 4,
 "nbformat_minor": 4
}
