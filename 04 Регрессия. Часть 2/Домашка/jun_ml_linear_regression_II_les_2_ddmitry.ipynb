{
  "nbformat": 4,
  "nbformat_minor": 0,
  "metadata": {
    "celltoolbar": "Slideshow",
    "kernelspec": {
      "display_name": "Python 3",
      "language": "python",
      "name": "python3"
    },
    "language_info": {
      "codemirror_mode": {
        "name": "ipython",
        "version": 3
      },
      "file_extension": ".py",
      "mimetype": "text/x-python",
      "name": "python",
      "nbconvert_exporter": "python",
      "pygments_lexer": "ipython3",
      "version": "3.7.6-final"
    },
    "colab": {
      "name": "jun_ml_linear_regression_II-les_2.ipynb",
      "provenance": []
    }
  },
  "cells": [
    {
      "cell_type": "markdown",
      "metadata": {
        "id": "pv7q-bTR8Kep",
        "colab_type": "text"
      },
      "source": [
        "# Урок 2. Переобучение на примере линейной регрессии\n",
        "\n",
        "\n",
        "Давайте проведём эксперимент и увидим на примере, как переобучается линейная регрессия. Для начала загрузим датасет из csv"
      ]
    },
    {
      "cell_type": "code",
      "metadata": {
        "id": "Ddl5CTjg8Ker",
        "colab_type": "code",
        "colab": {},
        "outputId": "b552f18e-68c7-4562-835d-a1b7ffff9104"
      },
      "source": [
        "import numpy as np\n",
        "import pandas as pd\n",
        "\n",
        "data = pd.read_csv('data/non_linear.csv', sep=',')\n",
        "data.head()"
      ],
      "execution_count": 2,
      "outputs": [
        {
          "output_type": "execute_result",
          "data": {
            "text/plain": "    x_train   y_train\n0  0.138368  0.838812\n1  0.157237  0.889313\n2  0.188684  1.430040\n3  0.685553  1.717309\n4  0.874237  2.032588",
            "text/html": "<div>\n<style scoped>\n    .dataframe tbody tr th:only-of-type {\n        vertical-align: middle;\n    }\n\n    .dataframe tbody tr th {\n        vertical-align: top;\n    }\n\n    .dataframe thead th {\n        text-align: right;\n    }\n</style>\n<table border=\"1\" class=\"dataframe\">\n  <thead>\n    <tr style=\"text-align: right;\">\n      <th></th>\n      <th>x_train</th>\n      <th>y_train</th>\n    </tr>\n  </thead>\n  <tbody>\n    <tr>\n      <th>0</th>\n      <td>0.138368</td>\n      <td>0.838812</td>\n    </tr>\n    <tr>\n      <th>1</th>\n      <td>0.157237</td>\n      <td>0.889313</td>\n    </tr>\n    <tr>\n      <th>2</th>\n      <td>0.188684</td>\n      <td>1.430040</td>\n    </tr>\n    <tr>\n      <th>3</th>\n      <td>0.685553</td>\n      <td>1.717309</td>\n    </tr>\n    <tr>\n      <th>4</th>\n      <td>0.874237</td>\n      <td>2.032588</td>\n    </tr>\n  </tbody>\n</table>\n</div>"
          },
          "metadata": {},
          "execution_count": 2
        }
      ]
    },
    {
      "cell_type": "markdown",
      "metadata": {
        "id": "zhDg7TBC8Kex",
        "colab_type": "text"
      },
      "source": [
        "Тренироваться будем на полиномиальной регрессии, потому что она сильно склонна к переобучению и мы уже знакомы с этой моделью. Сгенерируем полиномиальные признаки так же, как вы уже делали в модуле \"Линейная регрессия. Часть I\"."
      ]
    },
    {
      "cell_type": "code",
      "metadata": {
        "id": "ywGMJUxH8Key",
        "colab_type": "code",
        "colab": {}
      },
      "source": [
        "from sklearn.model_selection import train_test_split\n",
        "from sklearn.linear_model import Ridge, Lasso\n",
        "from sklearn.metrics import mean_squared_error\n",
        "\n",
        "def generate_degrees(source_data: list, degree: int):\n",
        "    \"\"\"Функция, которая принимает на вход одномерный массив, а возвращает n-мерный\n",
        "    Для каждой степени от 1 до  degree возводим x в эту степень\n",
        "    \"\"\"\n",
        "    return np.array([\n",
        "          source_data**n for n in range(1, degree + 1)  \n",
        "    ]).T"
      ],
      "execution_count": 3,
      "outputs": []
    },
    {
      "cell_type": "markdown",
      "metadata": {
        "id": "Qiqwy42S8Ke2",
        "colab_type": "text"
      },
      "source": [
        "Обучаем модель на валидации, проверяем на контроле для степени полинома *degree=8*. Для разбиения мы воспользуемся функцией train_test_split (ссылка на доку: https://scikit-learn.org/stable/modules/generated/sklearn.model_selection.train_test_split.html). Функция принимает следующие аргументы:\n",
        "\n",
        "* $X$ и $y$ - массивы, которые хотим расщепить на валидацию и контроль\n",
        "* *test_size* принимает значения от нуля до единицы и означает долю объектов, которые нужно отложить на валидацию (обычно выбирают значения между $0.15$ и $0.35$)\n",
        "* *random_state* - любое целое число. Функция разбивает выборку случайным образом, но если вы задали параметр random_state, то разбиение не будет меняться в разных запусках программы. Это нужно для воспроизводимости исследований и является признаком хорошего тона в программировании."
      ]
    },
    {
      "cell_type": "code",
      "metadata": {
        "id": "MNtbHA2h8Ke3",
        "colab_type": "code",
        "colab": {},
        "outputId": "e1f111d2-c4f8-4608-acfa-7a2a96d31f33"
      },
      "source": [
        "degree = 8\n",
        "X = generate_degrees(data['x_train'], degree)\n",
        "y = data.y_train.values\n",
        "X_train, X_valid, y_train, y_valid = train_test_split(X, y, test_size=0.2, random_state=10)\n",
        "model = Ridge(alpha=0).fit(X_train, y_train)\n",
        "y_pred = model.predict(X_valid)\n",
        "y_pred_train = model.predict(X_train)\n",
        "print(\"Качество на валидации: %.3f\" % mean_squared_error(y_valid, y_pred))\n",
        "print(\"Качество на обучении: %.3f\" % mean_squared_error(y_train, y_pred_train))"
      ],
      "execution_count": 4,
      "outputs": [
        {
          "output_type": "stream",
          "name": "stdout",
          "text": "Качество на валидации: 0.119\nКачество на обучении: 0.052\n"
        }
      ]
    },
    {
      "cell_type": "markdown",
      "metadata": {
        "id": "ywJsnW4w8Ke7",
        "colab_type": "text"
      },
      "source": [
        "Теперь обучим полиномиальную регрессию для степени *degree = 12* c параметром регуляризации *alpha=0*"
      ]
    },
    {
      "cell_type": "code",
      "metadata": {
        "id": "j85Q1ahK8Ke7",
        "colab_type": "code",
        "colab": {},
        "outputId": "89c2a474-3f43-4a37-8ba1-259f268fa9ff"
      },
      "source": [
        "degree = 12\n",
        "X = generate_degrees(data['x_train'], degree)\n",
        "y = data.y_train.values\n",
        "X_train, X_valid, y_train, y_valid = train_test_split(X, y, test_size=0.2, random_state=10)\n",
        "model = Ridge(alpha=0).fit(X_train, y_train)\n",
        "y_pred = model.predict(X_valid)\n",
        "y_pred_train = model.predict(X_train)\n",
        "print(\"Качество на валидации: %.3f\" % mean_squared_error(y_valid, y_pred))\n",
        "print(\"Качество на обучении: %.3f\" % mean_squared_error(y_train, y_pred_train))"
      ],
      "execution_count": 5,
      "outputs": [
        {
          "output_type": "stream",
          "name": "stdout",
          "text": "Качество на валидации: 0.125\nКачество на обучении: 0.051\n"
        }
      ]
    },
    {
      "cell_type": "markdown",
      "metadata": {
        "id": "lMGOWZOC8Ke-",
        "colab_type": "text"
      },
      "source": [
        "Как изменилась ошибка на обучении? Было $0.052$, стало $0.051$, т.е. *ошибка на обучении падает*.\n",
        "\n",
        "Как изменилась ошибка на валидации? Было $0.119$, стало $0.125$, т.е. *ошибка на валидации растёт*.\n",
        "\n",
        "Это же верный **признак переобучения**! Ошибка на валидации растёт, а на обучении падает. Степень полинома $n=12$ хуже, чем степень полинома $n=8$, модель переобучилась. Это печально, как же нам победить переобучение?\n",
        "\n",
        "**Практическое задание**: предлагаю вам победить переобучение самостоятельно! Обучите *Ridge* регрессию с параметром регуляризации $\\alpha=0.01$. \n",
        "\n",
        "Как изменилась ошибка на обучении? Как изменилась ошибка на валидации? Удалось ли победить переобучение?"
      ]
    },
    {
      "cell_type": "code",
      "metadata": {
        "id": "UX3x2g088Ke_",
        "colab_type": "code",
        "colab": {}
      },
      "source": [
        "# -- ВАШ КОД ТУТ --\n",
        "degree = 12\n",
        "X = generate_degrees(data['x_train'], degree)\n",
        "y = data.y_train.values\n",
        "X_train, X_valid, y_train, y_valid = train_test_split(X, y, test_size=0.2, random_state=10)\n",
        "model = Ridge(alpha=0.01).fit(X_train, y_train)\n",
        "y_pred = model.predict(X_valid)\n",
        "y_pred_train = model.predict(X_train)\n",
        "print(\"Качество на валидации: %.3f\" % mean_squared_error(y_valid, y_pred))\n",
        "print(\"Качество на обучении: %.3f\" % mean_squared_error(y_train, y_pred_train))"
      ],
      "execution_count": 8,
      "outputs": [
        {
          "output_type": "stream",
          "name": "stdout",
          "text": "Качество на валидации: 0.077\nКачество на обучении: 0.058\n"
        }
      ]
    },
    {
      "cell_type": "markdown",
      "metadata": {
        "id": "TRD2OvfK8KfC",
        "colab_type": "text"
      },
      "source": [
        "Я надеюсь, что переобучение с помощью регуляризации победить вам удалось!"
      ]
    },
    {
      "cell_type": "markdown",
      "metadata": {
        "id": "h6HitBq48KfD",
        "colab_type": "text"
      },
      "source": [
        "Чему полезному мы научились?\n",
        "\n",
        "* узнали, что такое переобучение\n",
        "* научились детектировать его с помощью валидационной выборки\n",
        "* смогли победить переобучение с помощью библиотечного класса Ridge"
      ]
    }
  ]
}