{
  "nbformat": 4,
  "nbformat_minor": 0,
  "metadata": {
    "colab": {
      "name": "homework_classification-2_les-1_part-1.ipynb",
      "provenance": []
    },
    "kernelspec": {
      "display_name": "Python 3",
      "language": "python",
      "name": "python3"
    },
    "language_info": {
      "codemirror_mode": {
        "name": "ipython",
        "version": 3
      },
      "file_extension": ".py",
      "mimetype": "text/x-python",
      "name": "python",
      "nbconvert_exporter": "python",
      "pygments_lexer": "ipython3",
      "version": "3.6.3"
    }
  },
  "cells": [
    {
      "cell_type": "markdown",
      "metadata": {
        "colab_type": "text",
        "id": "lRkA2eOKzXtO"
      },
      "source": [
        "# Урок 1. Метрики качества классификации ч.1\n",
        "\n",
        "В уроке мы разбирали матрицу ошибок и некоторые метрики, основанные на терминах матрицы ошибок. Здесь же посмотрим, как эти метрики применять на практике и что  по ним можно выяснить."
      ]
    },
    {
      "cell_type": "markdown",
      "metadata": {
        "colab_type": "text",
        "id": "ihmfQuGxzXtQ"
      },
      "source": [
        "### 1.1\n",
        "Выкачайте тренировочный датасет Titanic - train.csv - с сайта [kaggle](https://www.kaggle.com/c/titanic/data). С помощью функции pd.read_csv() загрузите данные в датафрейм. Выведите первые 20 строк и проанализируйте данные: какие колонки присутствуют (более конкретная информация по ним есть на сайте kaggle), каким образом в них обозначены данные и какие типы данных используются (используйте pandas.dtypes). "
      ]
    },
    {
      "cell_type": "code",
      "metadata": {
        "colab_type": "code",
        "id": "PV-jZFDRzXtR",
        "colab": {}
      },
      "source": [
        "import pandas as pd"
      ],
      "execution_count": 0,
      "outputs": []
    },
    {
      "cell_type": "code",
      "metadata": {
        "colab_type": "code",
        "id": "1-Zv8POVzXtU",
        "colab": {}
      },
      "source": [
        "### YOUR CODE HERE ###\n",
        "\n",
        "\n"
      ],
      "execution_count": 0,
      "outputs": []
    },
    {
      "cell_type": "markdown",
      "metadata": {
        "colab_type": "text",
        "id": "W67hWJy1zXtX"
      },
      "source": [
        "### 1.2\n",
        "Проверьте, имеются ли пропущенные значения в колонках, и выведите сумму всех пропущенных значений в каждой из колонок."
      ]
    },
    {
      "cell_type": "code",
      "metadata": {
        "colab_type": "code",
        "id": "UrWKo-nZzXtX",
        "colab": {}
      },
      "source": [
        "### YOUR CODE HERE ###\n",
        "\n",
        "\n"
      ],
      "execution_count": 0,
      "outputs": []
    },
    {
      "cell_type": "markdown",
      "metadata": {
        "colab_type": "text",
        "id": "WEXNaPplzXtZ"
      },
      "source": [
        "### 1.3\n",
        "Замените все пропущенные значения колонки Age на медианы в зависимости от пола человека: т.е. если пол человека в строке с пропущенным значением \"male\", заменяете пропущенное значение возраста на медиану по всем известным возрастам мужчин, и наоборот. Выведите медианы возраста в зависимости от пола. Пропущенные значения колонок Cabin и Embarked замените на U (Unknown)."
      ]
    },
    {
      "cell_type": "markdown",
      "metadata": {
        "colab_type": "text",
        "id": "iN0qq_kAzXta"
      },
      "source": [
        "Примечание: для группировки по полу можно использовать метод df.groupby(), который имеет встроенные агрегатные функции (в т.ч. для вычисления медианы).  Для установки пропущенных значений в датасете воспользуйтесь функцией df.apply()."
      ]
    },
    {
      "cell_type": "code",
      "metadata": {
        "colab_type": "code",
        "id": "X99uZ48yzXtb",
        "colab": {}
      },
      "source": [
        "### YOUR CODE HERE ###\n",
        "\n",
        "\n"
      ],
      "execution_count": 0,
      "outputs": []
    },
    {
      "cell_type": "markdown",
      "metadata": {
        "colab_type": "text",
        "id": "n4y7HgtRzXtd"
      },
      "source": [
        "### 1.4\n",
        "Выведите возраст пассажиров с PassengerID = [6, 20]. Убедитесь, что заполнены все пропущенные значения (воспользуйтесь функцией df.isnull() )."
      ]
    },
    {
      "cell_type": "code",
      "metadata": {
        "colab_type": "code",
        "id": "zOb5XHuJzXte",
        "colab": {}
      },
      "source": [
        "### YOUR CODE HERE ###\n",
        "\n",
        "\n"
      ],
      "execution_count": 0,
      "outputs": []
    },
    {
      "cell_type": "markdown",
      "metadata": {
        "colab_type": "text",
        "id": "9ayEbWnlzXth"
      },
      "source": [
        "Так как не все классификаторы могут работать с категориальными признаками, в данном случае необходимо заменить их на числовые.\n",
        "\n",
        "Также можно было бы выделить расширенные признаки, такие как статус пассажира (Mr., Mrs., Miss., Dr., Master. и т.д.), собственный индекс билета, индекс палубы и другие, но здесь ограничимся выбором более простых признаков."
      ]
    },
    {
      "cell_type": "markdown",
      "metadata": {
        "colab_type": "text",
        "id": "yokvJp2dzXth"
      },
      "source": [
        "### 1.5\n",
        "В колонке Sex замените значения на 0, если пол \"male\", и на 1, если \"female\". В колонке Embarked замените параметры \"U\", \"S\", \"C\", \"Q\" на 0, 1, 2, 3 соответственно. Отбросьте колонки PassengerId, Name, Ticket, Cabin. Выведите первые 20 строк получившегося набора данных."
      ]
    },
    {
      "cell_type": "code",
      "metadata": {
        "colab_type": "code",
        "id": "xf7r1L1SzXti",
        "colab": {}
      },
      "source": [
        "### YOUR CODE HERE ###\n",
        "\n",
        "\n"
      ],
      "execution_count": 0,
      "outputs": []
    },
    {
      "cell_type": "markdown",
      "metadata": {
        "colab_type": "text",
        "id": "qMAW08A5zXtk"
      },
      "source": [
        "### 1.6\n",
        "Приступим к построению классификаторов. **Условимся, что, если функция или объект модели имеют параметр random_state, то устанавливаем его равным 17 в каждом из случаев.**\n",
        "\n",
        "Разделите данные на тренировочный и тестовый датасеты, установив размер тестового как 0.25 (первая колонка Survived является целевой, поэтому необходимо сначала ее отделить от признаков)."
      ]
    },
    {
      "cell_type": "code",
      "metadata": {
        "colab_type": "code",
        "id": "ld64gUCAzXtm",
        "colab": {}
      },
      "source": [
        "from sklearn.model_selection import train_test_split "
      ],
      "execution_count": 0,
      "outputs": []
    },
    {
      "cell_type": "code",
      "metadata": {
        "colab_type": "code",
        "id": "jWs-vIXdzXtr",
        "colab": {}
      },
      "source": [
        "### YOUR CODE HERE ###\n",
        "\n",
        "\n"
      ],
      "execution_count": 0,
      "outputs": []
    },
    {
      "cell_type": "markdown",
      "metadata": {
        "colab_type": "text",
        "id": "LRUJb1gozXtv"
      },
      "source": [
        "### 1.7\n",
        "Обучите на полученных выборках несколько классификаторов, которые импортированы ниже.\n",
        "\n",
        "**Примечание: в методе ближайших соседей используйте количество соседей, равное 5.**"
      ]
    },
    {
      "cell_type": "code",
      "metadata": {
        "colab_type": "code",
        "id": "-1szEVSTzXtw",
        "colab": {}
      },
      "source": [
        "from sklearn.neighbors import KNeighborsClassifier\n",
        "from sklearn.naive_bayes import GaussianNB\n",
        "from sklearn.tree import DecisionTreeClassifier\n",
        "from sklearn.linear_model import LogisticRegression"
      ],
      "execution_count": 0,
      "outputs": []
    },
    {
      "cell_type": "code",
      "metadata": {
        "colab_type": "code",
        "id": "1pq3i9LnzXty",
        "colab": {}
      },
      "source": [
        "### YOUR CODE HERE ###\n",
        "\n",
        "\n"
      ],
      "execution_count": 0,
      "outputs": []
    },
    {
      "cell_type": "markdown",
      "metadata": {
        "colab_type": "text",
        "id": "Jv5Uy5UmzXt2"
      },
      "source": [
        "Очевидно, в этом случае использовать метрику accuracy, которую мы применяли до этого, не совсем правильно: она не даст верную оценку классификатору, потому как выживших явно меньше, чем погибших.\n",
        "\n",
        "Вспомним про такие метрики как точность и полнота. Здесь они подойдут хорошо, так как у нас имеются положительный и отрицательный классы, и определить корректно один из них может оказаться более важным ."
      ]
    },
    {
      "cell_type": "markdown",
      "metadata": {
        "colab_type": "text",
        "id": "Opt43TOIzXt3"
      },
      "source": [
        "### 1.8\n",
        "В каждом из пунктов следующего теста выберите, что важнее максимизировать: точность (precision) или полноту (recall). Выпишите ответы.\n",
        "\n",
        "1. Вероятность того, что при определенной поломке самолета он сможет долететь до пункта назначения (1 - долетел, 0 - не долетел).\n",
        "2. Предсказание, представляет ли человек опасность, по анализу психического состояния (1 - представляет опасность, 0 - не представляет опасности).\n",
        "3. Предсказание ухода клиента (1 - клиент ушел, 0 - остался).\n",
        "4. Выявление рака на основе медицинских показателей (1 - болен раком, 0 - здоров).\n",
        "5. Предсказание летальности при наблюдаемой мутации (1 - выживание, 0 - летальный исход).\n",
        "6. Определение важности происшествия для экстренных служб (1 - важно, 0 - неважно).\n",
        "7. Окупятся ли вложения в бизнес (1 - окупятся, 0 - не окупятся)."
      ]
    },
    {
      "cell_type": "markdown",
      "metadata": {
        "colab_type": "text",
        "id": "K1-v6SmGzXt3"
      },
      "source": [
        "Ваш ответ:\n",
        "\n",
        "1. <br>\n",
        "2. <br>\n",
        "3. <br>\n",
        "4. <br>\n",
        "5. <br>\n",
        "6. <br>\n",
        "7. <br>"
      ]
    },
    {
      "cell_type": "markdown",
      "metadata": {
        "colab_type": "text",
        "id": "FqrtMi-jzXt4"
      },
      "source": [
        "### 1.9\n",
        "Определите, что важнее использовать в случае датасета Titanic: полноту или точность. Объясните, почему.\n",
        "\n",
        "### 1.10\n",
        "Для каждого классификатора выведите матрицу ошибок и самостоятельно рассчитайте метрику recall (расчеты должны присутствовать). Проверьте расчеты, воспользовавшись встроенной метрикой recall_score."
      ]
    },
    {
      "cell_type": "code",
      "metadata": {
        "colab_type": "code",
        "id": "cJ3N4TqEzXt5",
        "colab": {}
      },
      "source": [
        "from sklearn.metrics import confusion_matrix, recall_score"
      ],
      "execution_count": 0,
      "outputs": []
    },
    {
      "cell_type": "code",
      "metadata": {
        "colab_type": "code",
        "id": "bVukHkOgzXt7",
        "colab": {}
      },
      "source": [
        "### YOUR CODE HERE ###\n",
        "\n",
        "\n"
      ],
      "execution_count": 0,
      "outputs": []
    },
    {
      "cell_type": "markdown",
      "metadata": {
        "colab_type": "text",
        "id": "hvz-MxztzXt8"
      },
      "source": [
        "### 1.11\n",
        "Выберите ту модель, на которой метрика recall давала лучший ответ, и рассчитайте для нее precision, используя встроенную функцию."
      ]
    },
    {
      "cell_type": "code",
      "metadata": {
        "colab_type": "code",
        "id": "UUdiUwlszXt9",
        "colab": {}
      },
      "source": [
        "from sklearn.metrics import precision_score"
      ],
      "execution_count": 0,
      "outputs": []
    },
    {
      "cell_type": "code",
      "metadata": {
        "colab_type": "code",
        "id": "4UcVLFdUzXt_",
        "colab": {}
      },
      "source": [
        "### YOUR CODE HERE ###\n",
        "\n",
        "\n"
      ],
      "execution_count": 0,
      "outputs": []
    }
  ]
}